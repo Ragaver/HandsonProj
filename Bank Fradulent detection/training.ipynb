{
 "cells": [
  {
   "cell_type": "code",
   "execution_count": 3,
   "id": "ddecbf14-31e1-42c3-846d-ba1cde310ef1",
   "metadata": {},
   "outputs": [],
   "source": [
    "import numpy as np\n",
    "import pandas as pd\n",
    "import matplotlib.pyplot as plt\n",
    "import seaborn as sns\n",
    "%matplotlib inline\n",
    "import warnings\n",
    "warnings.filterwarnings('ignore')"
   ]
  },
  {
   "cell_type": "code",
   "execution_count": 4,
   "id": "37df1b7e-20d9-49ae-a1c7-10a581814e83",
   "metadata": {},
   "outputs": [
    {
     "data": {
      "text/html": [
       "<div>\n",
       "<style scoped>\n",
       "    .dataframe tbody tr th:only-of-type {\n",
       "        vertical-align: middle;\n",
       "    }\n",
       "\n",
       "    .dataframe tbody tr th {\n",
       "        vertical-align: top;\n",
       "    }\n",
       "\n",
       "    .dataframe thead th {\n",
       "        text-align: right;\n",
       "    }\n",
       "</style>\n",
       "<table border=\"1\" class=\"dataframe\">\n",
       "  <thead>\n",
       "    <tr style=\"text-align: right;\">\n",
       "      <th></th>\n",
       "      <th>age</th>\n",
       "      <th>income</th>\n",
       "      <th>loan_amount</th>\n",
       "      <th>credit_score</th>\n",
       "      <th>employment_status</th>\n",
       "      <th>default(y)</th>\n",
       "      <th>loan_term</th>\n",
       "      <th>interest_rate</th>\n",
       "      <th>debt_to_income_ratio</th>\n",
       "      <th>num_of_dependents</th>\n",
       "      <th>education_level</th>\n",
       "      <th>home_ownership</th>\n",
       "      <th>marital_status</th>\n",
       "      <th>credit_history_length</th>\n",
       "      <th>num_credit_lines</th>\n",
       "      <th>late_payments</th>\n",
       "      <th>bankruptcies</th>\n",
       "      <th>annual_savings</th>\n",
       "      <th>retirement_savings</th>\n",
       "      <th>monthly_expenses</th>\n",
       "    </tr>\n",
       "  </thead>\n",
       "  <tbody>\n",
       "    <tr>\n",
       "      <th>0</th>\n",
       "      <td>38</td>\n",
       "      <td>71440</td>\n",
       "      <td>27069</td>\n",
       "      <td>689</td>\n",
       "      <td>self-employed</td>\n",
       "      <td>1</td>\n",
       "      <td>36</td>\n",
       "      <td>9.937874</td>\n",
       "      <td>31.046101</td>\n",
       "      <td>0</td>\n",
       "      <td>high_school</td>\n",
       "      <td>rent</td>\n",
       "      <td>married</td>\n",
       "      <td>7</td>\n",
       "      <td>6</td>\n",
       "      <td>1</td>\n",
       "      <td>1</td>\n",
       "      <td>25259</td>\n",
       "      <td>195208</td>\n",
       "      <td>6037</td>\n",
       "    </tr>\n",
       "    <tr>\n",
       "      <th>1</th>\n",
       "      <td>36</td>\n",
       "      <td>90200</td>\n",
       "      <td>14895</td>\n",
       "      <td>578</td>\n",
       "      <td>employed</td>\n",
       "      <td>0</td>\n",
       "      <td>48</td>\n",
       "      <td>13.624882</td>\n",
       "      <td>21.845252</td>\n",
       "      <td>0</td>\n",
       "      <td>high_school</td>\n",
       "      <td>own</td>\n",
       "      <td>married</td>\n",
       "      <td>11</td>\n",
       "      <td>16</td>\n",
       "      <td>8</td>\n",
       "      <td>0</td>\n",
       "      <td>40761</td>\n",
       "      <td>152999</td>\n",
       "      <td>4064</td>\n",
       "    </tr>\n",
       "    <tr>\n",
       "      <th>2</th>\n",
       "      <td>47</td>\n",
       "      <td>85896</td>\n",
       "      <td>2613</td>\n",
       "      <td>352</td>\n",
       "      <td>employed</td>\n",
       "      <td>1</td>\n",
       "      <td>12</td>\n",
       "      <td>6.676366</td>\n",
       "      <td>12.562405</td>\n",
       "      <td>1</td>\n",
       "      <td>bachelor</td>\n",
       "      <td>mortgage</td>\n",
       "      <td>divorced</td>\n",
       "      <td>24</td>\n",
       "      <td>2</td>\n",
       "      <td>2</td>\n",
       "      <td>0</td>\n",
       "      <td>34857</td>\n",
       "      <td>67487</td>\n",
       "      <td>2848</td>\n",
       "    </tr>\n",
       "    <tr>\n",
       "      <th>3</th>\n",
       "      <td>38</td>\n",
       "      <td>20121</td>\n",
       "      <td>3163</td>\n",
       "      <td>622</td>\n",
       "      <td>unemployed</td>\n",
       "      <td>0</td>\n",
       "      <td>48</td>\n",
       "      <td>12.833366</td>\n",
       "      <td>17.144545</td>\n",
       "      <td>1</td>\n",
       "      <td>master</td>\n",
       "      <td>own</td>\n",
       "      <td>married</td>\n",
       "      <td>12</td>\n",
       "      <td>4</td>\n",
       "      <td>6</td>\n",
       "      <td>1</td>\n",
       "      <td>16048</td>\n",
       "      <td>98869</td>\n",
       "      <td>7721</td>\n",
       "    </tr>\n",
       "    <tr>\n",
       "      <th>4</th>\n",
       "      <td>44</td>\n",
       "      <td>77529</td>\n",
       "      <td>37731</td>\n",
       "      <td>615</td>\n",
       "      <td>self-employed</td>\n",
       "      <td>0</td>\n",
       "      <td>12</td>\n",
       "      <td>4.111636</td>\n",
       "      <td>35.892430</td>\n",
       "      <td>3</td>\n",
       "      <td>high_school</td>\n",
       "      <td>own</td>\n",
       "      <td>single</td>\n",
       "      <td>27</td>\n",
       "      <td>7</td>\n",
       "      <td>5</td>\n",
       "      <td>0</td>\n",
       "      <td>5668</td>\n",
       "      <td>42397</td>\n",
       "      <td>8009</td>\n",
       "    </tr>\n",
       "  </tbody>\n",
       "</table>\n",
       "</div>"
      ],
      "text/plain": [
       "   age  income  loan_amount  credit_score employment_status  default(y)  \\\n",
       "0   38   71440        27069           689     self-employed           1   \n",
       "1   36   90200        14895           578          employed           0   \n",
       "2   47   85896         2613           352          employed           1   \n",
       "3   38   20121         3163           622        unemployed           0   \n",
       "4   44   77529        37731           615     self-employed           0   \n",
       "\n",
       "   loan_term  interest_rate  debt_to_income_ratio  num_of_dependents  \\\n",
       "0         36       9.937874             31.046101                  0   \n",
       "1         48      13.624882             21.845252                  0   \n",
       "2         12       6.676366             12.562405                  1   \n",
       "3         48      12.833366             17.144545                  1   \n",
       "4         12       4.111636             35.892430                  3   \n",
       "\n",
       "  education_level home_ownership marital_status  credit_history_length  \\\n",
       "0     high_school           rent        married                      7   \n",
       "1     high_school            own        married                     11   \n",
       "2        bachelor       mortgage       divorced                     24   \n",
       "3          master            own        married                     12   \n",
       "4     high_school            own         single                     27   \n",
       "\n",
       "   num_credit_lines  late_payments  bankruptcies  annual_savings  \\\n",
       "0                 6              1             1           25259   \n",
       "1                16              8             0           40761   \n",
       "2                 2              2             0           34857   \n",
       "3                 4              6             1           16048   \n",
       "4                 7              5             0            5668   \n",
       "\n",
       "   retirement_savings  monthly_expenses  \n",
       "0              195208              6037  \n",
       "1              152999              4064  \n",
       "2               67487              2848  \n",
       "3               98869              7721  \n",
       "4               42397              8009  "
      ]
     },
     "execution_count": 4,
     "metadata": {},
     "output_type": "execute_result"
    }
   ],
   "source": [
    "data = pd.read_csv(r'Credit Card Fraud Detection.csv')\n",
    "data.head()"
   ]
  },
  {
   "cell_type": "code",
   "execution_count": 5,
   "id": "534d2ca5-8fd7-4c13-b344-9b9e7ca4fc88",
   "metadata": {},
   "outputs": [
    {
     "data": {
      "text/plain": [
       "age                      0\n",
       "income                   0\n",
       "loan_amount              0\n",
       "credit_score             0\n",
       "employment_status        0\n",
       "default(y)               0\n",
       "loan_term                0\n",
       "interest_rate            0\n",
       "debt_to_income_ratio     0\n",
       "num_of_dependents        0\n",
       "education_level          0\n",
       "home_ownership           0\n",
       "marital_status           0\n",
       "credit_history_length    0\n",
       "num_credit_lines         0\n",
       "late_payments            0\n",
       "bankruptcies             0\n",
       "annual_savings           0\n",
       "retirement_savings       0\n",
       "monthly_expenses         0\n",
       "dtype: int64"
      ]
     },
     "execution_count": 5,
     "metadata": {},
     "output_type": "execute_result"
    }
   ],
   "source": [
    "data.isnull().sum()"
   ]
  },
  {
   "cell_type": "code",
   "execution_count": 6,
   "id": "efafd10f-58c7-4676-8202-c7713736dd14",
   "metadata": {},
   "outputs": [
    {
     "data": {
      "text/plain": [
       "0"
      ]
     },
     "execution_count": 6,
     "metadata": {},
     "output_type": "execute_result"
    }
   ],
   "source": [
    "data.duplicated().sum()"
   ]
  },
  {
   "cell_type": "code",
   "execution_count": 7,
   "id": "458bb3e7-aeb0-4519-9572-4e806020ce84",
   "metadata": {},
   "outputs": [
    {
     "data": {
      "text/plain": [
       "Index(['age', 'income', 'loan_amount', 'credit_score', 'employment_status',\n",
       "       'default(y)', 'loan_term', 'interest_rate', 'debt_to_income_ratio',\n",
       "       'num_of_dependents', 'education_level', 'home_ownership',\n",
       "       'marital_status', 'credit_history_length', 'num_credit_lines',\n",
       "       'late_payments', 'bankruptcies', 'annual_savings', 'retirement_savings',\n",
       "       'monthly_expenses'],\n",
       "      dtype='object')"
      ]
     },
     "execution_count": 7,
     "metadata": {},
     "output_type": "execute_result"
    }
   ],
   "source": [
    "data.columns"
   ]
  },
  {
   "cell_type": "code",
   "execution_count": 8,
   "id": "b132de7c-dfdc-4865-af93-5327b9bc9e3b",
   "metadata": {},
   "outputs": [],
   "source": [
    "continuous = ['age', 'income', 'loan_amount', 'credit_score','loan_term', 'interest_rate', 'debt_to_income_ratio','annual_savings', 'retirement_savings','monthly_expenses']\n",
    "discrete = ['num_of_dependents','credit_history_length','num_credit_lines','late_payments', 'bankruptcies']\n",
    "ordinal = ['education_level','home_ownership','employment_status']\n",
    "nominal = ['marital_status',]"
   ]
  },
  {
   "cell_type": "code",
   "execution_count": 9,
   "id": "45b05764-97c9-4af8-ab29-c908e061024a",
   "metadata": {},
   "outputs": [],
   "source": [
    "x = data.iloc[:,data.columns !='default(y)']\n",
    "y = data[['default(y)']]"
   ]
  },
  {
   "cell_type": "code",
   "execution_count": 10,
   "id": "b08d9d6b-d845-4735-ad96-e90fc4cdb651",
   "metadata": {},
   "outputs": [
    {
     "data": {
      "image/png": "[encoded data removed]",
      "text/plain": [
       "<Figure size 640x480 with 1 Axes>"
      ]
     },
     "metadata": {},
     "output_type": "display_data"
    },
    {
     "data": {
      "image/png": "[encoded data removed]",
      "text/plain": [
       "<Figure size 640x480 with 1 Axes>"
      ]
     },
     "metadata": {},
     "output_type": "display_data"
    },
    {
     "data": {
      "image/png": "[encoded data removed]",
      "text/plain": [
       "<Figure size 640x480 with 1 Axes>"
      ]
     },
     "metadata": {},
     "output_type": "display_data"
    },
    {
     "data": {
      "image/png": "[encoded data removed]",
      "text/plain": [
       "<Figure size 640x480 with 1 Axes>"
      ]
     },
     "metadata": {},
     "output_type": "display_data"
    },
    {
     "data": {
      "image/png": "[encoded data removed]",
      "text/plain": [
       "<Figure size 640x480 with 1 Axes>"
      ]
     },
     "metadata": {},
     "output_type": "display_data"
    },
    {
     "data": {
      "image/png": "[encoded data removed]",
      "text/plain": [
       "<Figure size 640x480 with 1 Axes>"
      ]
     },
     "metadata": {},
     "output_type": "display_data"
    },
    {
     "data": {
      "image/png": "[encoded data removed]",
      "text/plain": [
       "<Figure size 640x480 with 1 Axes>"
      ]
     },
     "metadata": {},
     "output_type": "display_data"
    },
    {
     "data": {
      "image/png": "[encoded data removed]",
      "text/plain": [
       "<Figure size 640x480 with 1 Axes>"
      ]
     },
     "metadata": {},
     "output_type": "display_data"
    },
    {
     "data": {
      "image/png": "[encoded data removed]",
      "text/plain": [
       "<Figure size 640x480 with 1 Axes>"
      ]
     },
     "metadata": {},
     "output_type": "display_data"
    },
    {
     "data": {
      "image/png": "[encoded data removed]",
      "text/plain": [
       "<Figure size 640x480 with 1 Axes>"
      ]
     },
     "metadata": {},
     "output_type": "display_data"
    }
   ],
   "source": [
    "for i in continuous:\n",
    "  sns.boxplot(x = i,data = data)\n",
    "  plt.show()"
   ]
  },
  {
   "cell_type": "code",
   "execution_count": 11,
   "id": "b23d5a32-6526-419a-98b1-ddb0a47f77bb",
   "metadata": {},
   "outputs": [],
   "source": [
    "def out_tret(i):\n",
    "  q1 = data[i].quantile(0.25)\n",
    "  q3 = data[i].quantile(0.75)\n",
    "  iqr = q3-q1\n",
    "  ll = q1 - 1.5*iqr\n",
    "  ul = q3 + 1.5*iqr\n",
    "  data[i] = data[i].clip(lower = ll,upper = ul)\n",
    "  return data[i]"
   ]
  },
  {
   "cell_type": "code",
   "execution_count": 12,
   "id": "733a5c49-1471-4be4-811c-fab3fb0dc56d",
   "metadata": {},
   "outputs": [],
   "source": [
    "for i in continuous:\n",
    "  data[i] = out_tret(i)"
   ]
  },
  {
   "cell_type": "code",
   "execution_count": 13,
   "id": "e48c8d88-6331-4e0f-8ea3-1a20f7d8901a",
   "metadata": {},
   "outputs": [
    {
     "data": {
      "image/png": "[encoded data removed]",
      "text/plain": [
       "<Figure size 640x480 with 1 Axes>"
      ]
     },
     "metadata": {},
     "output_type": "display_data"
    },
    {
     "data": {
      "image/png": "[encoded data removed]",
      "text/plain": [
       "<Figure size 640x480 with 1 Axes>"
      ]
     },
     "metadata": {},
     "output_type": "display_data"
    },
    {
     "data": {
      "image/png": "[encoded data removed]",
      "text/plain": [
       "<Figure size 640x480 with 1 Axes>"
      ]
     },
     "metadata": {},
     "output_type": "display_data"
    },
    {
     "data": {
      "image/png": "[encoded data removed]",
      "text/plain": [
       "<Figure size 640x480 with 1 Axes>"
      ]
     },
     "metadata": {},
     "output_type": "display_data"
    },
    {
     "data": {
      "image/png": "[encoded data removed]",
      "text/plain": [
       "<Figure size 640x480 with 1 Axes>"
      ]
     },
     "metadata": {},
     "output_type": "display_data"
    },
    {
     "data": {
      "image/png": "[encoded data removed]",
      "text/plain": [
       "<Figure size 640x480 with 1 Axes>"
      ]
     },
     "metadata": {},
     "output_type": "display_data"
    },
    {
     "data": {
      "image/png": "[encoded data removed]",
      "text/plain": [
       "<Figure size 640x480 with 1 Axes>"
      ]
     },
     "metadata": {},
     "output_type": "display_data"
    },
    {
     "data": {
      "image/png": "[encoded data removed]",
      "text/plain": [
       "<Figure size 640x480 with 1 Axes>"
      ]
     },
     "metadata": {},
     "output_type": "display_data"
    },
    {
     "data": {
      "image/png": "[encoded data removed]",
      "text/plain": [
       "<Figure size 640x480 with 1 Axes>"
      ]
     },
     "metadata": {},
     "output_type": "display_data"
    },
    {
     "data": {
      "image/png": "[encoded data removed]",
      "text/plain": [
       "<Figure size 640x480 with 1 Axes>"
      ]
     },
     "metadata": {},
     "output_type": "display_data"
    }
   ],
   "source": [
    "for i in continuous:\n",
    "  sns.boxplot(x = i,data = data)\n",
    "  plt.show()"
   ]
  },
  {
   "cell_type": "code",
   "execution_count": 14,
   "id": "eb65e342-5c26-460a-b375-8b609e234d2d",
   "metadata": {},
   "outputs": [
    {
     "name": "stdout",
     "output_type": "stream",
     "text": [
      "4\n",
      "education_level\n",
      "high_school    39963\n",
      "bachelor       35206\n",
      "master         19857\n",
      "phd             4974\n",
      "Name: count, dtype: int64\n",
      "3\n",
      "home_ownership\n",
      "rent        49973\n",
      "own         29898\n",
      "mortgage    20129\n",
      "Name: count, dtype: int64\n",
      "3\n",
      "employment_status\n",
      "employed         70310\n",
      "unemployed       19844\n",
      "self-employed     9846\n",
      "Name: count, dtype: int64\n"
     ]
    }
   ],
   "source": [
    "for i in ordinal:\n",
    "  print(data[i].nunique())\n",
    "  print(data[i].value_counts())"
   ]
  },
  {
   "cell_type": "code",
   "execution_count": 15,
   "id": "464e53ce-41e7-433d-8bda-327497977277",
   "metadata": {},
   "outputs": [],
   "source": [
    "order1 = ['high_school','bachelor','master','phd']\n",
    "order2 = ['rent','mortgage','own']\n",
    "order3 = ['unemployed','employed','self-employed']"
   ]
  },
  {
   "cell_type": "code",
   "execution_count": 16,
   "id": "0aa38145-daab-4833-93aa-ec1d4515190c",
   "metadata": {},
   "outputs": [],
   "source": [
    "from sklearn.pipeline import Pipeline\n",
    "from sklearn.impute import SimpleImputer\n",
    "from sklearn.preprocessing import OneHotEncoder, StandardScaler, OrdinalEncoder"
   ]
  },
  {
   "cell_type": "code",
   "execution_count": 17,
   "id": "37431d61-c300-4cd9-8809-97065f7d1497",
   "metadata": {},
   "outputs": [],
   "source": [
    "# Define preprocessing pipelines\n",
    "continuous_pipeline = Pipeline([\n",
    "    (\"imputer\", SimpleImputer(strategy=\"median\")),\n",
    "    (\"scaler\", StandardScaler())\n",
    "])\n",
    "\n",
    "discrete_pipeline = Pipeline([\n",
    "    (\"imputer\", SimpleImputer(strategy=\"median\")),\n",
    "    (\"scaler\", StandardScaler())\n",
    "])\n",
    "\n",
    "nominal_pipeline = Pipeline([\n",
    "    (\"imputer\", SimpleImputer(strategy=\"most_frequent\")),\n",
    "    (\"encoder\", OneHotEncoder(handle_unknown=\"ignore\"))\n",
    "])\n",
    "\n",
    "ordinal_pipeline1 = Pipeline([\n",
    "    (\"imputer\", SimpleImputer(strategy=\"most_frequent\")),\n",
    "    (\"encoder\", OrdinalEncoder(categories=[order1]))\n",
    "])\n",
    "\n",
    "ordinal_pipeline2 = Pipeline([\n",
    "    (\"imputer\", SimpleImputer(strategy=\"most_frequent\")),\n",
    "    (\"encoder\", OrdinalEncoder(categories=[order2]))\n",
    "])\n",
    "\n",
    "ordinal_pipeline3 = Pipeline([\n",
    "    (\"imputer\", SimpleImputer(strategy=\"most_frequent\")),\n",
    "    (\"encoder\", OrdinalEncoder(categories=[order3]))\n",
    "])"
   ]
  },
  {
   "cell_type": "code",
   "execution_count": 18,
   "id": "c2c8a67f-9694-4bd9-83a1-ee7d914de8ba",
   "metadata": {},
   "outputs": [],
   "source": [
    "from sklearn.compose import ColumnTransformer"
   ]
  },
  {
   "cell_type": "code",
   "execution_count": 19,
   "id": "1d556a17-9a22-4743-aaf3-6c166727b8b6",
   "metadata": {},
   "outputs": [],
   "source": [
    "# ColumnTransformer for feature engineering\n",
    "preprocessor = ColumnTransformer([\n",
    "    (\"continuous\", continuous_pipeline, continuous),\n",
    "    (\"discrete\", discrete_pipeline, discrete),\n",
    "    (\"nominal\", nominal_pipeline, nominal),\n",
    "    (\"ordinal1\", ordinal_pipeline1, ['education_level']),\n",
    "    (\"ordinal2\", ordinal_pipeline2, ['home_ownership']),\n",
    "    (\"ordinal3\", ordinal_pipeline3, ['employment_status'])\n",
    "])"
   ]
  },
  {
   "cell_type": "code",
   "execution_count": 20,
   "id": "3e7ba3c9-46d7-4111-984f-e3a1d55f99d4",
   "metadata": {},
   "outputs": [],
   "source": [
    "from sklearn.linear_model import LogisticRegression\n",
    "from sklearn.tree import DecisionTreeClassifier\n",
    "from sklearn.ensemble import RandomForestClassifier, AdaBoostClassifier\n",
    "from xgboost import XGBClassifier\n",
    "from sklearn.neighbors import KNeighborsClassifier"
   ]
  },
  {
   "cell_type": "code",
   "execution_count": 21,
   "id": "9dd0cfb6-1665-4579-8edb-3dd5a4c53430",
   "metadata": {},
   "outputs": [],
   "source": [
    "# **Define Multiple Models**\n",
    "models = {\n",
    "    \"LogisticRegression\": LogisticRegression(class_weight=\"balanced\", random_state=42),\n",
    "    \"DecisionTree\": DecisionTreeClassifier(class_weight=\"balanced\", random_state=42),\n",
    "    \"RandomForest\": RandomForestClassifier(class_weight=\"balanced\", random_state=42),\n",
    "    \"AdaBoost\": AdaBoostClassifier(n_estimators=50, random_state=42),\n",
    "    \"XGBoost\": XGBClassifier(use_label_encoder=False, eval_metric=\"logloss\"),\n",
    "    \"KNN\": KNeighborsClassifier(n_neighbors=5)\n",
    "\n",
    "}"
   ]
  },
  {
   "cell_type": "code",
   "execution_count": 22,
   "id": "e6e4837f-5f29-47b8-a56b-b79284534c5c",
   "metadata": {},
   "outputs": [],
   "source": [
    "from sklearn.model_selection import train_test_split"
   ]
  },
  {
   "cell_type": "code",
   "execution_count": 23,
   "id": "13a1ab67-8772-44e8-addd-3a746a07bcb2",
   "metadata": {},
   "outputs": [],
   "source": [
    "from imblearn.pipeline import Pipeline as ImbPipeline\n",
    "from imblearn.combine import SMOTETomek\n",
    "from sklearn.metrics import classification_report"
   ]
  },
  {
   "cell_type": "code",
   "execution_count": 24,
   "id": "95e9fb8b-70e3-4472-8648-e2bd72d5679f",
   "metadata": {},
   "outputs": [],
   "source": [
    "# Define preprocessing pipelines\n",
    "continuous_pipeline = Pipeline([\n",
    "    (\"imputer\", SimpleImputer(strategy=\"median\")),\n",
    "    (\"scaler\", StandardScaler())\n",
    "])\n",
    "\n",
    "discrete_pipeline = Pipeline([\n",
    "    (\"imputer\", SimpleImputer(strategy=\"median\")),\n",
    "    (\"scaler\", StandardScaler())\n",
    "])\n",
    "\n",
    "nominal_pipeline = Pipeline([\n",
    "    (\"imputer\", SimpleImputer(strategy=\"most_frequent\")),\n",
    "    (\"encoder\", OneHotEncoder(handle_unknown=\"ignore\"))\n",
    "])\n",
    "\n",
    "ordinal_pipeline1 = Pipeline([\n",
    "    (\"imputer\", SimpleImputer(strategy=\"most_frequent\")),\n",
    "    (\"encoder\", OrdinalEncoder(categories=[order1]))\n",
    "])\n",
    "\n",
    "ordinal_pipeline2 = Pipeline([\n",
    "    (\"imputer\", SimpleImputer(strategy=\"most_frequent\")),\n",
    "    (\"encoder\", OrdinalEncoder(categories=[order2]))\n",
    "])\n",
    "\n",
    "ordinal_pipeline3 = Pipeline([\n",
    "    (\"imputer\", SimpleImputer(strategy=\"most_frequent\")),\n",
    "    (\"encoder\", OrdinalEncoder(categories=[order3]))\n",
    "])"
   ]
  },
  {
   "cell_type": "code",
   "execution_count": 25,
   "id": "29c992a7-c52b-4632-8547-47ba1c08d6f5",
   "metadata": {},
   "outputs": [],
   "source": [
    "from sklearn.compose import ColumnTransformer"
   ]
  },
  {
   "cell_type": "code",
   "execution_count": 26,
   "id": "108d13ba-38ac-426b-a78a-3c3553efa4bd",
   "metadata": {},
   "outputs": [],
   "source": [
    "# ColumnTransformer for feature engineering\n",
    "preprocessor = ColumnTransformer([\n",
    "    (\"continuous\", continuous_pipeline, continuous),\n",
    "    (\"discrete\", discrete_pipeline, discrete),\n",
    "    (\"nominal\", nominal_pipeline, nominal),\n",
    "    (\"ordinal1\", ordinal_pipeline1, ['education_level']),\n",
    "    (\"ordinal2\", ordinal_pipeline2, ['home_ownership']),\n",
    "    (\"ordinal3\", ordinal_pipeline3, ['employment_status'])\n",
    "])"
   ]
  },
  {
   "cell_type": "code",
   "execution_count": 27,
   "id": "9b20f296-3f3b-4d90-a9ab-9fd8bb9bf599",
   "metadata": {},
   "outputs": [],
   "source": [
    "from sklearn.linear_model import LogisticRegression\n",
    "from sklearn.tree import DecisionTreeClassifier\n",
    "from sklearn.ensemble import RandomForestClassifier, AdaBoostClassifier\n",
    "from xgboost import XGBClassifier\n",
    "from sklearn.neighbors import KNeighborsClassifier"
   ]
  },
  {
   "cell_type": "code",
   "execution_count": 28,
   "id": "e3f5cd16-a658-4a09-ab5c-32559d4bfbd2",
   "metadata": {},
   "outputs": [],
   "source": [
    "# **Define Multiple Models**\n",
    "models = {\n",
    "    \"LogisticRegression\": LogisticRegression(class_weight=\"balanced\", random_state=42),\n",
    "    \"DecisionTree\": DecisionTreeClassifier(class_weight=\"balanced\", random_state=42),\n",
    "    \"RandomForest\": RandomForestClassifier(class_weight=\"balanced\", random_state=42),\n",
    "    \"AdaBoost\": AdaBoostClassifier(n_estimators=50, random_state=42),\n",
    "    \"XGBoost\": XGBClassifier(use_label_encoder=False, eval_metric=\"logloss\"),\n",
    "    \"KNN\": KNeighborsClassifier(n_neighbors=5)\n",
    "\n",
    "}"
   ]
  },
  {
   "cell_type": "code",
   "execution_count": 29,
   "id": "e7335309-58c9-4069-ae7f-5f10ca9dc9de",
   "metadata": {},
   "outputs": [],
   "source": [
    "from sklearn.model_selection import train_test_split"
   ]
  },
  {
   "cell_type": "code",
   "execution_count": 30,
   "id": "5d93e45e-79b9-4718-8957-4150b000dc46",
   "metadata": {},
   "outputs": [],
   "source": [
    "# **Train-Test Split**\n",
    "xtrain, xtest, ytrain, ytest = train_test_split(x, y, test_size=0.2, random_state=42, stratify=y)"
   ]
  },
  {
   "cell_type": "code",
   "execution_count": 31,
   "id": "9188041f-d05e-47b6-a902-a27d5d9f0268",
   "metadata": {},
   "outputs": [],
   "source": [
    "from imblearn.pipeline import Pipeline as ImbPipeline\n",
    "from imblearn.combine import SMOTETomek\n",
    "from sklearn.metrics import classification_report"
   ]
  },
  {
   "cell_type": "code",
   "execution_count": 32,
   "id": "aef31fe0-e15d-47ed-875d-9b71b417f803",
   "metadata": {},
   "outputs": [
    {
     "name": "stdout",
     "output_type": "stream",
     "text": [
      "\n",
      "🔹 Training model: LogisticRegression\n",
      "              precision    recall  f1-score   support\n",
      "\n",
      "           0       0.49      0.49      0.49      9981\n",
      "           1       0.50      0.50      0.50     10019\n",
      "\n",
      "    accuracy                           0.50     20000\n",
      "   macro avg       0.50      0.50      0.50     20000\n",
      "weighted avg       0.50      0.50      0.50     20000\n",
      "\n",
      "\n",
      "🔹 Training model: DecisionTree\n",
      "              precision    recall  f1-score   support\n",
      "\n",
      "           0       0.50      0.49      0.50      9981\n",
      "           1       0.50      0.50      0.50     10019\n",
      "\n",
      "    accuracy                           0.50     20000\n",
      "   macro avg       0.50      0.50      0.50     20000\n",
      "weighted avg       0.50      0.50      0.50     20000\n",
      "\n",
      "\n",
      "🔹 Training model: RandomForest\n",
      "              precision    recall  f1-score   support\n",
      "\n",
      "           0       0.50      0.53      0.52      9981\n",
      "           1       0.50      0.47      0.48     10019\n",
      "\n",
      "    accuracy                           0.50     20000\n",
      "   macro avg       0.50      0.50      0.50     20000\n",
      "weighted avg       0.50      0.50      0.50     20000\n",
      "\n",
      "\n",
      "🔹 Training model: AdaBoost\n",
      "              precision    recall  f1-score   support\n",
      "\n",
      "           0       0.50      0.52      0.51      9981\n",
      "           1       0.50      0.47      0.49     10019\n",
      "\n",
      "    accuracy                           0.50     20000\n",
      "   macro avg       0.50      0.50      0.50     20000\n",
      "weighted avg       0.50      0.50      0.50     20000\n",
      "\n",
      "\n",
      "🔹 Training model: XGBoost\n",
      "              precision    recall  f1-score   support\n",
      "\n",
      "           0       0.50      0.50      0.50      9981\n",
      "           1       0.50      0.50      0.50     10019\n",
      "\n",
      "    accuracy                           0.50     20000\n",
      "   macro avg       0.50      0.50      0.50     20000\n",
      "weighted avg       0.50      0.50      0.50     20000\n",
      "\n",
      "\n",
      "🔹 Training model: KNN\n",
      "              precision    recall  f1-score   support\n",
      "\n",
      "           0       0.50      0.50      0.50      9981\n",
      "           1       0.50      0.50      0.50     10019\n",
      "\n",
      "    accuracy                           0.50     20000\n",
      "   macro avg       0.50      0.50      0.50     20000\n",
      "weighted avg       0.50      0.50      0.50     20000\n",
      "\n"
     ]
    }
   ],
   "source": [
    "# **Loop through models and evaluate**\n",
    "for name, model in models.items():\n",
    "    print(f\"\\n🔹 Training model: {name}\")\n",
    "\n",
    "    # Full pipeline (Preprocessing → SMOTETomek → Model)\n",
    "    model_pipeline = ImbPipeline([\n",
    "        (\"preprocessor\", preprocessor),\n",
    "        (\"resampling\", SMOTETomek(random_state=42)),\n",
    "        (\"classifier\", model)\n",
    "    ])\n",
    "\n",
    "    # **Train model**\n",
    "    model_pipeline.fit(xtrain, ytrain)\n",
    "\n",
    "    # **Predictions & Evaluation**\n",
    "    ypred = model_pipeline.predict(xtest)\n",
    "    print(classification_report(ytest, ypred))"
   ]
  },
  {
   "cell_type": "code",
   "execution_count": 33,
   "id": "1b962160-a144-477c-81cc-5d9d4e5d3e31",
   "metadata": {},
   "outputs": [],
   "source": [
    "mod = XGBClassifier(use_label_encoder=False, eval_metric=\"logloss\")"
   ]
  },
  {
   "cell_type": "code",
   "execution_count": 34,
   "id": "70cebdcb-0170-494f-9317-934940b03236",
   "metadata": {},
   "outputs": [],
   "source": [
    "mod_pipeline = ImbPipeline([\n",
    "        (\"preprocessor\", preprocessor),\n",
    "        (\"resampling\", SMOTETomek(random_state=42)),  # Handles class imbalance\n",
    "        (\"classifier\", mod)\n",
    "    ])"
   ]
  },
  {
   "cell_type": "code",
   "execution_count": 35,
   "id": "aca8d530-b3f5-4fc2-b99a-61072ae41735",
   "metadata": {},
   "outputs": [
    {
     "data": {
      "text/html": [
       "<style>#sk-container-id-1 {color: black;background-color: white;}#sk-container-id-1 pre{padding: 0;}#sk-container-id-1 div.sk-toggleable {background-color: white;}#sk-container-id-1 label.sk-toggleable__label {cursor: pointer;display: block;width: 100%;margin-bottom: 0;padding: 0.3em;box-sizing: border-box;text-align: center;}#sk-container-id-1 label.sk-toggleable__label-arrow:before {content: \"▸\";float: left;margin-right: 0.25em;color: #696969;}#sk-container-id-1 label.sk-toggleable__label-arrow:hover:before {color: black;}#sk-container-id-1 div.sk-estimator:hover label.sk-toggleable__label-arrow:before {color: black;}#sk-container-id-1 div.sk-toggleable__content {max-height: 0;max-width: 0;overflow: hidden;text-align: left;background-color: #f0f8ff;}#sk-container-id-1 div.sk-toggleable__content pre {margin: 0.2em;color: black;border-radius: 0.25em;background-color: #f0f8ff;}#sk-container-id-1 input.sk-toggleable__control:checked~div.sk-toggleable__content {max-height: 200px;max-width: 100%;overflow: auto;}#sk-container-id-1 input.sk-toggleable__control:checked~label.sk-toggleable__label-arrow:before {content: \"▾\";}#sk-container-id-1 div.sk-estimator input.sk-toggleable__control:checked~label.sk-toggleable__label {background-color: #d4ebff;}#sk-container-id-1 div.sk-label input.sk-toggleable__control:checked~label.sk-toggleable__label {background-color: #d4ebff;}#sk-container-id-1 input.sk-hidden--visually {border: 0;clip: rect(1px 1px 1px 1px);clip: rect(1px, 1px, 1px, 1px);height: 1px;margin: -1px;overflow: hidden;padding: 0;position: absolute;width: 1px;}#sk-container-id-1 div.sk-estimator {font-family: monospace;background-color: #f0f8ff;border: 1px dotted black;border-radius: 0.25em;box-sizing: border-box;margin-bottom: 0.5em;}#sk-container-id-1 div.sk-estimator:hover {background-color: #d4ebff;}#sk-container-id-1 div.sk-parallel-item::after {content: \"\";width: 100%;border-bottom: 1px solid gray;flex-grow: 1;}#sk-container-id-1 div.sk-label:hover label.sk-toggleable__label {background-color: #d4ebff;}#sk-container-id-1 div.sk-serial::before {content: \"\";position: absolute;border-left: 1px solid gray;box-sizing: border-box;top: 0;bottom: 0;left: 50%;z-index: 0;}#sk-container-id-1 div.sk-serial {display: flex;flex-direction: column;align-items: center;background-color: white;padding-right: 0.2em;padding-left: 0.2em;position: relative;}#sk-container-id-1 div.sk-item {position: relative;z-index: 1;}#sk-container-id-1 div.sk-parallel {display: flex;align-items: stretch;justify-content: center;background-color: white;position: relative;}#sk-container-id-1 div.sk-item::before, #sk-container-id-1 div.sk-parallel-item::before {content: \"\";position: absolute;border-left: 1px solid gray;box-sizing: border-box;top: 0;bottom: 0;left: 50%;z-index: -1;}#sk-container-id-1 div.sk-parallel-item {display: flex;flex-direction: column;z-index: 1;position: relative;background-color: white;}#sk-container-id-1 div.sk-parallel-item:first-child::after {align-self: flex-end;width: 50%;}#sk-container-id-1 div.sk-parallel-item:last-child::after {align-self: flex-start;width: 50%;}#sk-container-id-1 div.sk-parallel-item:only-child::after {width: 0;}#sk-container-id-1 div.sk-dashed-wrapped {border: 1px dashed gray;margin: 0 0.4em 0.5em 0.4em;box-sizing: border-box;padding-bottom: 0.4em;background-color: white;}#sk-container-id-1 div.sk-label label {font-family: monospace;font-weight: bold;display: inline-block;line-height: 1.2em;}#sk-container-id-1 div.sk-label-container {text-align: center;}#sk-container-id-1 div.sk-container {/* jupyter's `normalize.less` sets `[hidden] { display: none; }` but bootstrap.min.css set `[hidden] { display: none !important; }` so we also need the `!important` here to be able to override the default hidden behavior on the sphinx rendered scikit-learn.org. See: https://github.com/scikit-learn/scikit-learn/issues/21755 */display: inline-block !important;position: relative;}#sk-container-id-1 div.sk-text-repr-fallback {display: none;}</style><div id=\"sk-container-id-1\" class=\"sk-top-container\"><div class=\"sk-text-repr-fallback\"><pre>Pipeline(steps=[(&#x27;preprocessor&#x27;,\n",
       "                 ColumnTransformer(transformers=[(&#x27;continuous&#x27;,\n",
       "                                                  Pipeline(steps=[(&#x27;imputer&#x27;,\n",
       "                                                                   SimpleImputer(strategy=&#x27;median&#x27;)),\n",
       "                                                                  (&#x27;scaler&#x27;,\n",
       "                                                                   StandardScaler())]),\n",
       "                                                  [&#x27;age&#x27;, &#x27;income&#x27;,\n",
       "                                                   &#x27;loan_amount&#x27;,\n",
       "                                                   &#x27;credit_score&#x27;, &#x27;loan_term&#x27;,\n",
       "                                                   &#x27;interest_rate&#x27;,\n",
       "                                                   &#x27;debt_to_income_ratio&#x27;,\n",
       "                                                   &#x27;annual_savings&#x27;,\n",
       "                                                   &#x27;retirement_savings&#x27;,\n",
       "                                                   &#x27;monthly_expenses&#x27;]),\n",
       "                                                 (&#x27;discrete&#x27;,\n",
       "                                                  Pipeline(steps...\n",
       "                               feature_types=None, gamma=None, gpu_id=None,\n",
       "                               grow_policy=None, importance_type=None,\n",
       "                               interaction_constraints=None, learning_rate=None,\n",
       "                               max_bin=None, max_cat_threshold=None,\n",
       "                               max_cat_to_onehot=None, max_delta_step=None,\n",
       "                               max_depth=None, max_leaves=None,\n",
       "                               min_child_weight=None, missing=nan,\n",
       "                               monotone_constraints=None, n_estimators=100,\n",
       "                               n_jobs=None, num_parallel_tree=None,\n",
       "                               predictor=None, random_state=None, ...))])</pre><b>In a Jupyter environment, please rerun this cell to show the HTML representation or trust the notebook. <br />On GitHub, the HTML representation is unable to render, please try loading this page with nbviewer.org.</b></div><div class=\"sk-container\" hidden><div class=\"sk-item sk-dashed-wrapped\"><div class=\"sk-label-container\"><div class=\"sk-label sk-toggleable\"><input class=\"sk-toggleable__control sk-hidden--visually\" id=\"sk-estimator-id-1\" type=\"checkbox\" ><label for=\"sk-estimator-id-1\" class=\"sk-toggleable__label sk-toggleable__label-arrow\">Pipeline</label><div class=\"sk-toggleable__content\"><pre>Pipeline(steps=[(&#x27;preprocessor&#x27;,\n",
       "                 ColumnTransformer(transformers=[(&#x27;continuous&#x27;,\n",
       "                                                  Pipeline(steps=[(&#x27;imputer&#x27;,\n",
       "                                                                   SimpleImputer(strategy=&#x27;median&#x27;)),\n",
       "                                                                  (&#x27;scaler&#x27;,\n",
       "                                                                   StandardScaler())]),\n",
       "                                                  [&#x27;age&#x27;, &#x27;income&#x27;,\n",
       "                                                   &#x27;loan_amount&#x27;,\n",
       "                                                   &#x27;credit_score&#x27;, &#x27;loan_term&#x27;,\n",
       "                                                   &#x27;interest_rate&#x27;,\n",
       "                                                   &#x27;debt_to_income_ratio&#x27;,\n",
       "                                                   &#x27;annual_savings&#x27;,\n",
       "                                                   &#x27;retirement_savings&#x27;,\n",
       "                                                   &#x27;monthly_expenses&#x27;]),\n",
       "                                                 (&#x27;discrete&#x27;,\n",
       "                                                  Pipeline(steps...\n",
       "                               feature_types=None, gamma=None, gpu_id=None,\n",
       "                               grow_policy=None, importance_type=None,\n",
       "                               interaction_constraints=None, learning_rate=None,\n",
       "                               max_bin=None, max_cat_threshold=None,\n",
       "                               max_cat_to_onehot=None, max_delta_step=None,\n",
       "                               max_depth=None, max_leaves=None,\n",
       "                               min_child_weight=None, missing=nan,\n",
       "                               monotone_constraints=None, n_estimators=100,\n",
       "                               n_jobs=None, num_parallel_tree=None,\n",
       "                               predictor=None, random_state=None, ...))])</pre></div></div></div><div class=\"sk-serial\"><div class=\"sk-item sk-dashed-wrapped\"><div class=\"sk-label-container\"><div class=\"sk-label sk-toggleable\"><input class=\"sk-toggleable__control sk-hidden--visually\" id=\"sk-estimator-id-2\" type=\"checkbox\" ><label for=\"sk-estimator-id-2\" class=\"sk-toggleable__label sk-toggleable__label-arrow\">preprocessor: ColumnTransformer</label><div class=\"sk-toggleable__content\"><pre>ColumnTransformer(transformers=[(&#x27;continuous&#x27;,\n",
       "                                 Pipeline(steps=[(&#x27;imputer&#x27;,\n",
       "                                                  SimpleImputer(strategy=&#x27;median&#x27;)),\n",
       "                                                 (&#x27;scaler&#x27;, StandardScaler())]),\n",
       "                                 [&#x27;age&#x27;, &#x27;income&#x27;, &#x27;loan_amount&#x27;,\n",
       "                                  &#x27;credit_score&#x27;, &#x27;loan_term&#x27;, &#x27;interest_rate&#x27;,\n",
       "                                  &#x27;debt_to_income_ratio&#x27;, &#x27;annual_savings&#x27;,\n",
       "                                  &#x27;retirement_savings&#x27;, &#x27;monthly_expenses&#x27;]),\n",
       "                                (&#x27;discrete&#x27;,\n",
       "                                 Pipeline(steps=[(&#x27;imputer&#x27;,\n",
       "                                                  SimpleImputer(strat...\n",
       "                                (&#x27;ordinal2&#x27;,\n",
       "                                 Pipeline(steps=[(&#x27;imputer&#x27;,\n",
       "                                                  SimpleImputer(strategy=&#x27;most_frequent&#x27;)),\n",
       "                                                 (&#x27;encoder&#x27;,\n",
       "                                                  OrdinalEncoder(categories=[[&#x27;rent&#x27;,\n",
       "                                                                              &#x27;mortgage&#x27;,\n",
       "                                                                              &#x27;own&#x27;]]))]),\n",
       "                                 [&#x27;home_ownership&#x27;]),\n",
       "                                (&#x27;ordinal3&#x27;,\n",
       "                                 Pipeline(steps=[(&#x27;imputer&#x27;,\n",
       "                                                  SimpleImputer(strategy=&#x27;most_frequent&#x27;)),\n",
       "                                                 (&#x27;encoder&#x27;,\n",
       "                                                  OrdinalEncoder(categories=[[&#x27;unemployed&#x27;,\n",
       "                                                                              &#x27;employed&#x27;,\n",
       "                                                                              &#x27;self-employed&#x27;]]))]),\n",
       "                                 [&#x27;employment_status&#x27;])])</pre></div></div></div><div class=\"sk-parallel\"><div class=\"sk-parallel-item\"><div class=\"sk-item\"><div class=\"sk-label-container\"><div class=\"sk-label sk-toggleable\"><input class=\"sk-toggleable__control sk-hidden--visually\" id=\"sk-estimator-id-3\" type=\"checkbox\" ><label for=\"sk-estimator-id-3\" class=\"sk-toggleable__label sk-toggleable__label-arrow\">continuous</label><div class=\"sk-toggleable__content\"><pre>[&#x27;age&#x27;, &#x27;income&#x27;, &#x27;loan_amount&#x27;, &#x27;credit_score&#x27;, &#x27;loan_term&#x27;, &#x27;interest_rate&#x27;, &#x27;debt_to_income_ratio&#x27;, &#x27;annual_savings&#x27;, &#x27;retirement_savings&#x27;, &#x27;monthly_expenses&#x27;]</pre></div></div></div><div class=\"sk-serial\"><div class=\"sk-item\"><div class=\"sk-serial\"><div class=\"sk-item\"><div class=\"sk-estimator sk-toggleable\"><input class=\"sk-toggleable__control sk-hidden--visually\" id=\"sk-estimator-id-4\" type=\"checkbox\" ><label for=\"sk-estimator-id-4\" class=\"sk-toggleable__label sk-toggleable__label-arrow\">SimpleImputer</label><div class=\"sk-toggleable__content\"><pre>SimpleImputer(strategy=&#x27;median&#x27;)</pre></div></div></div><div class=\"sk-item\"><div class=\"sk-estimator sk-toggleable\"><input class=\"sk-toggleable__control sk-hidden--visually\" id=\"sk-estimator-id-5\" type=\"checkbox\" ><label for=\"sk-estimator-id-5\" class=\"sk-toggleable__label sk-toggleable__label-arrow\">StandardScaler</label><div class=\"sk-toggleable__content\"><pre>StandardScaler()</pre></div></div></div></div></div></div></div></div><div class=\"sk-parallel-item\"><div class=\"sk-item\"><div class=\"sk-label-container\"><div class=\"sk-label sk-toggleable\"><input class=\"sk-toggleable__control sk-hidden--visually\" id=\"sk-estimator-id-6\" type=\"checkbox\" ><label for=\"sk-estimator-id-6\" class=\"sk-toggleable__label sk-toggleable__label-arrow\">discrete</label><div class=\"sk-toggleable__content\"><pre>[&#x27;num_of_dependents&#x27;, &#x27;credit_history_length&#x27;, &#x27;num_credit_lines&#x27;, &#x27;late_payments&#x27;, &#x27;bankruptcies&#x27;]</pre></div></div></div><div class=\"sk-serial\"><div class=\"sk-item\"><div class=\"sk-serial\"><div class=\"sk-item\"><div class=\"sk-estimator sk-toggleable\"><input class=\"sk-toggleable__control sk-hidden--visually\" id=\"sk-estimator-id-7\" type=\"checkbox\" ><label for=\"sk-estimator-id-7\" class=\"sk-toggleable__label sk-toggleable__label-arrow\">SimpleImputer</label><div class=\"sk-toggleable__content\"><pre>SimpleImputer(strategy=&#x27;median&#x27;)</pre></div></div></div><div class=\"sk-item\"><div class=\"sk-estimator sk-toggleable\"><input class=\"sk-toggleable__control sk-hidden--visually\" id=\"sk-estimator-id-8\" type=\"checkbox\" ><label for=\"sk-estimator-id-8\" class=\"sk-toggleable__label sk-toggleable__label-arrow\">StandardScaler</label><div class=\"sk-toggleable__content\"><pre>StandardScaler()</pre></div></div></div></div></div></div></div></div><div class=\"sk-parallel-item\"><div class=\"sk-item\"><div class=\"sk-label-container\"><div class=\"sk-label sk-toggleable\"><input class=\"sk-toggleable__control sk-hidden--visually\" id=\"sk-estimator-id-9\" type=\"checkbox\" ><label for=\"sk-estimator-id-9\" class=\"sk-toggleable__label sk-toggleable__label-arrow\">nominal</label><div class=\"sk-toggleable__content\"><pre>[&#x27;marital_status&#x27;]</pre></div></div></div><div class=\"sk-serial\"><div class=\"sk-item\"><div class=\"sk-serial\"><div class=\"sk-item\"><div class=\"sk-estimator sk-toggleable\"><input class=\"sk-toggleable__control sk-hidden--visually\" id=\"sk-estimator-id-10\" type=\"checkbox\" ><label for=\"sk-estimator-id-10\" class=\"sk-toggleable__label sk-toggleable__label-arrow\">SimpleImputer</label><div class=\"sk-toggleable__content\"><pre>SimpleImputer(strategy=&#x27;most_frequent&#x27;)</pre></div></div></div><div class=\"sk-item\"><div class=\"sk-estimator sk-toggleable\"><input class=\"sk-toggleable__control sk-hidden--visually\" id=\"sk-estimator-id-11\" type=\"checkbox\" ><label for=\"sk-estimator-id-11\" class=\"sk-toggleable__label sk-toggleable__label-arrow\">OneHotEncoder</label><div class=\"sk-toggleable__content\"><pre>OneHotEncoder(handle_unknown=&#x27;ignore&#x27;)</pre></div></div></div></div></div></div></div></div><div class=\"sk-parallel-item\"><div class=\"sk-item\"><div class=\"sk-label-container\"><div class=\"sk-label sk-toggleable\"><input class=\"sk-toggleable__control sk-hidden--visually\" id=\"sk-estimator-id-12\" type=\"checkbox\" ><label for=\"sk-estimator-id-12\" class=\"sk-toggleable__label sk-toggleable__label-arrow\">ordinal1</label><div class=\"sk-toggleable__content\"><pre>[&#x27;education_level&#x27;]</pre></div></div></div><div class=\"sk-serial\"><div class=\"sk-item\"><div class=\"sk-serial\"><div class=\"sk-item\"><div class=\"sk-estimator sk-toggleable\"><input class=\"sk-toggleable__control sk-hidden--visually\" id=\"sk-estimator-id-13\" type=\"checkbox\" ><label for=\"sk-estimator-id-13\" class=\"sk-toggleable__label sk-toggleable__label-arrow\">SimpleImputer</label><div class=\"sk-toggleable__content\"><pre>SimpleImputer(strategy=&#x27;most_frequent&#x27;)</pre></div></div></div><div class=\"sk-item\"><div class=\"sk-estimator sk-toggleable\"><input class=\"sk-toggleable__control sk-hidden--visually\" id=\"sk-estimator-id-14\" type=\"checkbox\" ><label for=\"sk-estimator-id-14\" class=\"sk-toggleable__label sk-toggleable__label-arrow\">OrdinalEncoder</label><div class=\"sk-toggleable__content\"><pre>OrdinalEncoder(categories=[[&#x27;high_school&#x27;, &#x27;bachelor&#x27;, &#x27;master&#x27;, &#x27;phd&#x27;]])</pre></div></div></div></div></div></div></div></div><div class=\"sk-parallel-item\"><div class=\"sk-item\"><div class=\"sk-label-container\"><div class=\"sk-label sk-toggleable\"><input class=\"sk-toggleable__control sk-hidden--visually\" id=\"sk-estimator-id-15\" type=\"checkbox\" ><label for=\"sk-estimator-id-15\" class=\"sk-toggleable__label sk-toggleable__label-arrow\">ordinal2</label><div class=\"sk-toggleable__content\"><pre>[&#x27;home_ownership&#x27;]</pre></div></div></div><div class=\"sk-serial\"><div class=\"sk-item\"><div class=\"sk-serial\"><div class=\"sk-item\"><div class=\"sk-estimator sk-toggleable\"><input class=\"sk-toggleable__control sk-hidden--visually\" id=\"sk-estimator-id-16\" type=\"checkbox\" ><label for=\"sk-estimator-id-16\" class=\"sk-toggleable__label sk-toggleable__label-arrow\">SimpleImputer</label><div class=\"sk-toggleable__content\"><pre>SimpleImputer(strategy=&#x27;most_frequent&#x27;)</pre></div></div></div><div class=\"sk-item\"><div class=\"sk-estimator sk-toggleable\"><input class=\"sk-toggleable__control sk-hidden--visually\" id=\"sk-estimator-id-17\" type=\"checkbox\" ><label for=\"sk-estimator-id-17\" class=\"sk-toggleable__label sk-toggleable__label-arrow\">OrdinalEncoder</label><div class=\"sk-toggleable__content\"><pre>OrdinalEncoder(categories=[[&#x27;rent&#x27;, &#x27;mortgage&#x27;, &#x27;own&#x27;]])</pre></div></div></div></div></div></div></div></div><div class=\"sk-parallel-item\"><div class=\"sk-item\"><div class=\"sk-label-container\"><div class=\"sk-label sk-toggleable\"><input class=\"sk-toggleable__control sk-hidden--visually\" id=\"sk-estimator-id-18\" type=\"checkbox\" ><label for=\"sk-estimator-id-18\" class=\"sk-toggleable__label sk-toggleable__label-arrow\">ordinal3</label><div class=\"sk-toggleable__content\"><pre>[&#x27;employment_status&#x27;]</pre></div></div></div><div class=\"sk-serial\"><div class=\"sk-item\"><div class=\"sk-serial\"><div class=\"sk-item\"><div class=\"sk-estimator sk-toggleable\"><input class=\"sk-toggleable__control sk-hidden--visually\" id=\"sk-estimator-id-19\" type=\"checkbox\" ><label for=\"sk-estimator-id-19\" class=\"sk-toggleable__label sk-toggleable__label-arrow\">SimpleImputer</label><div class=\"sk-toggleable__content\"><pre>SimpleImputer(strategy=&#x27;most_frequent&#x27;)</pre></div></div></div><div class=\"sk-item\"><div class=\"sk-estimator sk-toggleable\"><input class=\"sk-toggleable__control sk-hidden--visually\" id=\"sk-estimator-id-20\" type=\"checkbox\" ><label for=\"sk-estimator-id-20\" class=\"sk-toggleable__label sk-toggleable__label-arrow\">OrdinalEncoder</label><div class=\"sk-toggleable__content\"><pre>OrdinalEncoder(categories=[[&#x27;unemployed&#x27;, &#x27;employed&#x27;, &#x27;self-employed&#x27;]])</pre></div></div></div></div></div></div></div></div></div></div><div class=\"sk-item\"><div class=\"sk-estimator sk-toggleable\"><input class=\"sk-toggleable__control sk-hidden--visually\" id=\"sk-estimator-id-21\" type=\"checkbox\" ><label for=\"sk-estimator-id-21\" class=\"sk-toggleable__label sk-toggleable__label-arrow\">SMOTETomek</label><div class=\"sk-toggleable__content\"><pre>SMOTETomek(random_state=42)</pre></div></div></div><div class=\"sk-item\"><div class=\"sk-estimator sk-toggleable\"><input class=\"sk-toggleable__control sk-hidden--visually\" id=\"sk-estimator-id-22\" type=\"checkbox\" ><label for=\"sk-estimator-id-22\" class=\"sk-toggleable__label sk-toggleable__label-arrow\">XGBClassifier</label><div class=\"sk-toggleable__content\"><pre>XGBClassifier(base_score=None, booster=None, callbacks=None,\n",
       "              colsample_bylevel=None, colsample_bynode=None,\n",
       "              colsample_bytree=None, early_stopping_rounds=None,\n",
       "              enable_categorical=False, eval_metric=&#x27;logloss&#x27;,\n",
       "              feature_types=None, gamma=None, gpu_id=None, grow_policy=None,\n",
       "              importance_type=None, interaction_constraints=None,\n",
       "              learning_rate=None, max_bin=None, max_cat_threshold=None,\n",
       "              max_cat_to_onehot=None, max_delta_step=None, max_depth=None,\n",
       "              max_leaves=None, min_child_weight=None, missing=nan,\n",
       "              monotone_constraints=None, n_estimators=100, n_jobs=None,\n",
       "              num_parallel_tree=None, predictor=None, random_state=None, ...)</pre></div></div></div></div></div></div></div>"
      ],
      "text/plain": [
       "Pipeline(steps=[('preprocessor',\n",
       "                 ColumnTransformer(transformers=[('continuous',\n",
       "                                                  Pipeline(steps=[('imputer',\n",
       "                                                                   SimpleImputer(strategy='median')),\n",
       "                                                                  ('scaler',\n",
       "                                                                   StandardScaler())]),\n",
       "                                                  ['age', 'income',\n",
       "                                                   'loan_amount',\n",
       "                                                   'credit_score', 'loan_term',\n",
       "                                                   'interest_rate',\n",
       "                                                   'debt_to_income_ratio',\n",
       "                                                   'annual_savings',\n",
       "                                                   'retirement_savings',\n",
       "                                                   'monthly_expenses']),\n",
       "                                                 ('discrete',\n",
       "                                                  Pipeline(steps...\n",
       "                               feature_types=None, gamma=None, gpu_id=None,\n",
       "                               grow_policy=None, importance_type=None,\n",
       "                               interaction_constraints=None, learning_rate=None,\n",
       "                               max_bin=None, max_cat_threshold=None,\n",
       "                               max_cat_to_onehot=None, max_delta_step=None,\n",
       "                               max_depth=None, max_leaves=None,\n",
       "                               min_child_weight=None, missing=nan,\n",
       "                               monotone_constraints=None, n_estimators=100,\n",
       "                               n_jobs=None, num_parallel_tree=None,\n",
       "                               predictor=None, random_state=None, ...))])"
      ]
     },
     "execution_count": 35,
     "metadata": {},
     "output_type": "execute_result"
    }
   ],
   "source": [
    "# **Train model**\n",
    "mod_pipeline.fit(xtrain, ytrain)"
   ]
  },
  {
   "cell_type": "code",
   "execution_count": 36,
   "id": "854ff931-5004-4147-b5ef-15519acce01f",
   "metadata": {},
   "outputs": [
    {
     "name": "stdout",
     "output_type": "stream",
     "text": [
      "              precision    recall  f1-score   support\n",
      "\n",
      "           0       0.50      0.50      0.50      9981\n",
      "           1       0.50      0.50      0.50     10019\n",
      "\n",
      "    accuracy                           0.50     20000\n",
      "   macro avg       0.50      0.50      0.50     20000\n",
      "weighted avg       0.50      0.50      0.50     20000\n",
      "\n"
     ]
    }
   ],
   "source": [
    "# **Predictions & Evaluation**\n",
    "ypred = mod_pipeline.predict(xtest)\n",
    "print(classification_report(ytest, ypred))"
   ]
  },
  {
   "cell_type": "code",
   "execution_count": 37,
   "id": "16fc54e8-b0c4-494d-8dc7-e607fe6cf1b6",
   "metadata": {},
   "outputs": [],
   "source": [
    "import joblib"
   ]
  },
  {
   "cell_type": "code",
   "execution_count": 38,
   "id": "56cb9a49-a9c4-4c19-ba46-88923aa4a8f5",
   "metadata": {},
   "outputs": [
    {
     "data": {
      "text/plain": [
       "['preprocessor.pkl']"
      ]
     },
     "execution_count": 38,
     "metadata": {},
     "output_type": "execute_result"
    }
   ],
   "source": [
    "preprocessor_pipeline = mod_pipeline.named_steps['preprocessor']\n",
    "joblib.dump(preprocessor_pipeline,'preprocessor.pkl')"
   ]
  },
  {
   "cell_type": "code",
   "execution_count": 39,
   "id": "9e009198-b44e-4ea1-b522-9badde53df54",
   "metadata": {},
   "outputs": [
    {
     "data": {
      "text/plain": [
       "['model.pkl']"
      ]
     },
     "execution_count": 39,
     "metadata": {},
     "output_type": "execute_result"
    }
   ],
   "source": [
    "model_pipeline = mod_pipeline.named_steps['classifier']\n",
    "joblib.dump(model_pipeline,'model.pkl')"
   ]
  },
  {
   "cell_type": "code",
   "execution_count": 40,
   "id": "13e817e1-0dd0-40a1-a263-dab46e4dbbdb",
   "metadata": {},
   "outputs": [
    {
     "data": {
      "text/plain": [
       "'C:\\\\Users\\\\91909\\\\0 Real Project\\\\Bank Fradulent detection'"
      ]
     },
     "execution_count": 40,
     "metadata": {},
     "output_type": "execute_result"
    }
   ],
   "source": [
    "pwd"
   ]
  },
  {
   "cell_type": "code",
   "execution_count": 41,
   "id": "b32b7504-4c28-449e-8652-47ca4a447237",
   "metadata": {},
   "outputs": [
    {
     "name": "stdout",
     "output_type": "stream",
     "text": [
      "XGBoost Version: 1.7.3\n"
     ]
    }
   ],
   "source": [
    "import xgboost\n",
    "print(\"XGBoost Version:\", xgboost.__version__)\n"
   ]
  },
  {
   "cell_type": "code",
   "execution_count": 42,
   "id": "6e040fa2-4adb-456a-947b-b2264e67fdc0",
   "metadata": {},
   "outputs": [],
   "source": [
    "#pip install xgboost==1.7.3"
   ]
  },
  {
   "cell_type": "code",
   "execution_count": 43,
   "id": "cb7bb34d-c418-493c-81c7-5a505be91ddd",
   "metadata": {},
   "outputs": [
    {
     "name": "stdout",
     "output_type": "stream",
     "text": [
      "sklearn Version: 1.2.2\n"
     ]
    }
   ],
   "source": [
    "import sklearn\n",
    "print(\"sklearn Version:\", sklearn.__version__)\n"
   ]
  },
  {
   "cell_type": "code",
   "execution_count": null,
   "id": "023a9662-66b4-4e9c-8e2a-42545caf6f81",
   "metadata": {},
   "outputs": [],
   "source": []
  }
 ],
 "metadata": {
  "kernelspec": {
   "display_name": "Python 3 (ipykernel)",
   "language": "python",
   "name": "python3"
  },
  "language_info": {
   "codemirror_mode": {
    "name": "ipython",
    "version": 3
   },
   "file_extension": ".py",
   "mimetype": "text/x-python",
   "name": "python",
   "nbconvert_exporter": "python",
   "pygments_lexer": "ipython3",
   "version": "3.11.7"
  }
 },
 "nbformat": 4,
 "nbformat_minor": 5
}
